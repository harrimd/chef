{
 "cells": [
  {
   "cell_type": "code",
   "execution_count": 36,
   "metadata": {},
   "outputs": [],
   "source": [
    "from neo4j import GraphDatabase\n",
    "import logging\n",
    "from neo4j.exceptions import ServiceUnavailable\n",
    "# import Connection\n",
    "\n",
    "class App:\n",
    "    def __init__(self, uri, user, password):\n",
    "        self.driver = GraphDatabase.driver(uri, auth=(user, password))\n",
    "\n",
    "    def close(self):\n",
    "        # Don't forget to close the driver conn when you're done with it\n",
    "        self.driver.close()\n",
    "\n",
    "    def test_conn(self):\n",
    "        with self.driver.session() as session:\n",
    "            try:\n",
    "                session.run(\"Match () Return 1 Limit 1\")\n",
    "                print('connection ok')\n",
    "            except Exception:\n",
    "                print('connection error')\n",
    "                \n",
    "    def create_ingredientCategory(self, category_name):\n",
    "        with self.driver.session() as session:\n",
    "            res = session.write_transaction(\n",
    "                self._create_and_return_ingredientCategory, category_name)\n",
    "            for row in res:\n",
    "                print(\"Created ingredient category: {c1}\".format(c1=row['c1']))\n",
    "    \n",
    "    @staticmethod        \n",
    "    def _create_and_return_ingredientCategory(tx, cn):\n",
    "        query = (\n",
    "            \"MERGE (c1:IngredientCategory { name: $cn }) \"\n",
    "            \"RETURN c1\"\n",
    "        )\n",
    "        result = tx.run(query, cn=cn)\n",
    "        try:\n",
    "            return [{\"c1\": row[\"c1\"][\"name\"]}\n",
    "                    for row in result]\n",
    "        except ServiceUnavailable as exception:\n",
    "            logging.error(\"{query} raised an error: \\n {exception}\".format(\n",
    "                query=query, exception=exception))\n",
    "            raise\n",
    "        \n",
    "    def create_ingredient_ingredientCategory_relationship(self, ingredient, ingredientCategory):\n",
    "        with self.driver.session() as session:\n",
    "            res = session.write_transaction(\n",
    "                self._create_and_return_ingredient_ingredientCategory_relationship, ingredient, ingredientCategory)\n",
    "            for row in res:\n",
    "                print(\"Created 'IS_A' relationship between: {i}, {ic}\".format(i=row['i'], ic=row['ic']))\n",
    "                \n",
    "    # @staticmethod\n",
    "    # def _create_and_return_ingredient_ingredientCategory_relationship(tx, ingredient, ingredientCategory):\n",
    "    #     query = (\n",
    "    #         \"MERGE (i:Ingredient { name: $ingredient }) \"\n",
    "    #         \"MERGE (ic:IngredientCategory { name\"\n",
    "    #     )"
   ]
  },
  {
   "cell_type": "markdown",
   "metadata": {},
   "source": [
    "## Testing"
   ]
  },
  {
   "cell_type": "code",
   "execution_count": 38,
   "metadata": {},
   "outputs": [
    {
     "name": "stdout",
     "output_type": "stream",
     "text": [
      "connection ok\n",
      "Created ingredient category: grain\n"
     ]
    }
   ],
   "source": [
    "if __name__ == '__main__':\n",
    "    #Aura queries use an encrypted connection using the \"neo4j+s\" URI scheme\n",
    "    uri = \"neo4j+s://34781963.databases.neo4j.io\"\n",
    "    user = \"neo4j\"\n",
    "    password = \"G556E8m9-XS5mCOSJScbv7dBja-vuLPnXgBIYiVGM1U\"\n",
    "    app = App(uri, user, password)\n",
    "    # Functions to test go below here\n",
    "    \n",
    "    app.test_conn()\n",
    "\n",
    "    app.create_ingredientCategory(category_name=\"grain\")\n",
    "\n",
    "    app.close()"
   ]
  }
 ],
 "metadata": {
  "interpreter": {
   "hash": "916dbcbb3f70747c44a77c7bcd40155683ae19c65e1c03b4aa3499c5328201f1"
  },
  "kernelspec": {
   "display_name": "Python 3.8.10 64-bit",
   "language": "python",
   "name": "python3"
  },
  "language_info": {
   "codemirror_mode": {
    "name": "ipython",
    "version": 3
   },
   "file_extension": ".py",
   "mimetype": "text/x-python",
   "name": "python",
   "nbconvert_exporter": "python",
   "pygments_lexer": "ipython3",
   "version": "3.8.10"
  },
  "orig_nbformat": 4
 },
 "nbformat": 4,
 "nbformat_minor": 2
}
